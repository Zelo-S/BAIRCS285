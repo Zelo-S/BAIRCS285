{
 "cells": [
  {
   "cell_type": "code",
   "execution_count": 11,
   "metadata": {},
   "outputs": [],
   "source": [
    "import numpy as np\n",
    "\n",
    "class Test:\n",
    "    def __init__(self):\n",
    "        self.gamma = 0.5\n",
    "    def true_discounted_return(self, rewards):\n",
    "        \"\"\"\n",
    "            Helper function\n",
    "\n",
    "            Input: list of rewards {r_0, r_1, ..., r_t', ... r_T} from a single rollout of length T\n",
    "\n",
    "            Output: list where each index t contains sum_{t'=0}^T gamma^t' r_{t'}\n",
    "        \"\"\"\n",
    "        T = len(rewards)\n",
    "        gamma = self.gamma**np.arange(0, T)\n",
    "        discounted_return = gamma * rewards\n",
    "        sum_discounted = np.sum(discounted_return)\n",
    "        return np.repeat(sum_discounted, T)\n",
    "\n",
    "    def true_discounted_cumsum(self, rewards):\n",
    "        \"\"\"\n",
    "            Helper function which\n",
    "            -takes a list of rewards {r_0, r_1, ..., r_t', ... r_T},\n",
    "            -and returns a list where the entry in each index t' is sum_{t'=t}^T gamma^(t'-t) * r_{t'}\n",
    "        \"\"\"\n",
    "        T = len(rewards)\n",
    "        list_of_discounted_cumsums = [rewards[-1]]\n",
    "        for t in range(1, T):\n",
    "            list_of_discounted_cumsums.append(rewards[T-t-1] + self.gamma*list_of_discounted_cumsums[t-1])\n",
    "\n",
    "        return list_of_discounted_cumsums[::-1]\n",
    "\n",
    "    def _discounted_return(self, rewards):\n",
    "        \"\"\"\n",
    "            Helper function\n",
    "\n",
    "            Input: list of rewards {r_0, r_1, ..., r_t', ... r_T} from a single rollout of length T\n",
    "\n",
    "            Output: list where each index t contains sum_{t'=0}^T gamma^t' r_{t'}\n",
    "        \"\"\"\n",
    "        T = len(rewards)\n",
    "        rewards = np.asarray(rewards)\n",
    "        total_sum = np.sum(rewards)\n",
    "        discounts = np.array([ self.gamma ** i for i in range(T) ])\n",
    "        total_sum = np.sum(discounts * rewards)\n",
    "        return np.repeat(total_sum, T)\n",
    "\n",
    "    def _discounted_cumsum(self, rewards):\n",
    "        \"\"\"\n",
    "            Helper function which\n",
    "            -takes a list of rewards {r_0, r_1, ..., r_t', ... r_T},\n",
    "            -and returns a list where the entry in each index t' is sum_{t'=t}^T gamma^(t'-t) * r_{t'}\n",
    "        \"\"\"\n",
    "        T = len(rewards)\n",
    "        rewards = np.asarray(rewards)\n",
    "        list_of_discounted_cumsums = np.zeros(T, dtype=np.float32)\n",
    "        for t in range(T):\n",
    "            len_of_sum = T - t\n",
    "            discounts = np.array([ self.gamma ** i for i in range(len_of_sum) ])\n",
    "            curr_rew = rewards[t:]\n",
    "            list_of_discounted_cumsums[t] = np.dot(discounts, curr_rew)\n",
    "            # print(list_of_discounted_cumsums[t].dtype)\n",
    "        # print(\"List of disc ret:\", list_of_discounted_cumsums.dtype, list_of_discounted_cumsums[0].dtype)\n",
    "        return list_of_discounted_cumsums"
   ]
  },
  {
   "cell_type": "code",
   "execution_count": 12,
   "metadata": {},
   "outputs": [],
   "source": [
    "test = Test()"
   ]
  },
  {
   "cell_type": "code",
   "execution_count": 13,
   "metadata": {},
   "outputs": [
    {
     "name": "stdout",
     "output_type": "stream",
     "text": [
      "[9.62890625 9.62890625 9.62890625 9.62890625 9.62890625 9.62890625\n",
      " 9.62890625 9.62890625 9.62890625]\n",
      "[9.62890625 9.62890625 9.62890625 9.62890625 9.62890625 9.62890625\n",
      " 9.62890625 9.62890625 9.62890625]\n"
     ]
    }
   ],
   "source": [
    "rewards = np.array([4, 5, 10, 3, 2, 1, 0, 8, 9])\n",
    "# test regular sum\n",
    "print(test.true_discounted_return(rewards))\n",
    "print(test._discounted_return(rewards))\n"
   ]
  },
  {
   "cell_type": "code",
   "execution_count": 15,
   "metadata": {},
   "outputs": [
    {
     "name": "stdout",
     "output_type": "stream",
     "text": [
      "[ True  True  True  True  True  True  True  True  True]\n"
     ]
    }
   ],
   "source": [
    "print(test.true_discounted_cumsum(rewards) == test._discounted_cumsum(rewards))"
   ]
  }
 ],
 "metadata": {
  "kernelspec": {
   "display_name": "cs285",
   "language": "python",
   "name": "python3"
  },
  "language_info": {
   "codemirror_mode": {
    "name": "ipython",
    "version": 3
   },
   "file_extension": ".py",
   "mimetype": "text/x-python",
   "name": "python",
   "nbconvert_exporter": "python",
   "pygments_lexer": "ipython3",
   "version": "3.7.12"
  }
 },
 "nbformat": 4,
 "nbformat_minor": 2
}
